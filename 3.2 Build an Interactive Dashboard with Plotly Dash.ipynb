{
 "cells": [
  {
   "cell_type": "code",
   "execution_count": 1,
   "id": "a8e1f3c2",
   "metadata": {},
   "outputs": [
    {
     "name": "stdout",
     "output_type": "stream",
     "text": [
      "Collecting jupyter-dash\n",
      "  Downloading jupyter_dash-0.4.2-py3-none-any.whl (23 kB)\n",
      "Collecting retrying\n",
      "  Downloading retrying-1.3.3.tar.gz (10 kB)\n",
      "Requirement already satisfied: flask in c:\\users\\robson\\anaconda3\\lib\\site-packages (from jupyter-dash) (1.1.2)\n",
      "Requirement already satisfied: nest-asyncio in c:\\users\\robson\\anaconda3\\lib\\site-packages (from jupyter-dash) (1.5.1)\n",
      "Requirement already satisfied: ipykernel in c:\\users\\robson\\anaconda3\\lib\\site-packages (from jupyter-dash) (6.4.1)\n",
      "Collecting dash\n",
      "  Using cached dash-2.4.1-py3-none-any.whl (9.8 MB)\n",
      "Collecting ansi2html\n",
      "  Downloading ansi2html-1.7.0-py3-none-any.whl (15 kB)\n",
      "Requirement already satisfied: requests in c:\\users\\robson\\anaconda3\\lib\\site-packages (from jupyter-dash) (2.26.0)\n",
      "Requirement already satisfied: ipython in c:\\users\\robson\\anaconda3\\lib\\site-packages (from jupyter-dash) (7.29.0)\n",
      "Collecting dash-core-components==2.0.0\n",
      "  Using cached dash_core_components-2.0.0-py3-none-any.whl (3.8 kB)\n",
      "Collecting flask-compress\n",
      "  Using cached Flask_Compress-1.12-py3-none-any.whl (7.9 kB)\n",
      "Collecting dash-table==5.0.0\n",
      "  Using cached dash_table-5.0.0-py3-none-any.whl (3.9 kB)\n",
      "Collecting dash-html-components==2.0.0\n",
      "  Using cached dash_html_components-2.0.0-py3-none-any.whl (4.1 kB)\n",
      "Requirement already satisfied: plotly>=5.0.0 in c:\\users\\robson\\anaconda3\\lib\\site-packages (from dash->jupyter-dash) (5.8.0)\n",
      "Requirement already satisfied: click>=5.1 in c:\\users\\robson\\anaconda3\\lib\\site-packages (from flask->jupyter-dash) (8.0.3)\n",
      "Requirement already satisfied: itsdangerous>=0.24 in c:\\users\\robson\\anaconda3\\lib\\site-packages (from flask->jupyter-dash) (2.0.1)\n",
      "Requirement already satisfied: Jinja2>=2.10.1 in c:\\users\\robson\\anaconda3\\lib\\site-packages (from flask->jupyter-dash) (2.11.3)\n",
      "Requirement already satisfied: Werkzeug>=0.15 in c:\\users\\robson\\anaconda3\\lib\\site-packages (from flask->jupyter-dash) (2.0.2)\n",
      "Requirement already satisfied: colorama in c:\\users\\robson\\anaconda3\\lib\\site-packages (from click>=5.1->flask->jupyter-dash) (0.4.4)\n",
      "Requirement already satisfied: MarkupSafe>=0.23 in c:\\users\\robson\\anaconda3\\lib\\site-packages (from Jinja2>=2.10.1->flask->jupyter-dash) (1.1.1)\n",
      "Requirement already satisfied: tenacity>=6.2.0 in c:\\users\\robson\\anaconda3\\lib\\site-packages (from plotly>=5.0.0->dash->jupyter-dash) (8.0.1)\n",
      "Requirement already satisfied: brotli in c:\\users\\robson\\anaconda3\\lib\\site-packages (from flask-compress->dash->jupyter-dash) (1.0.9)\n",
      "Requirement already satisfied: matplotlib-inline<0.2.0,>=0.1.0 in c:\\users\\robson\\anaconda3\\lib\\site-packages (from ipykernel->jupyter-dash) (0.1.2)\n",
      "Requirement already satisfied: tornado<7.0,>=4.2 in c:\\users\\robson\\anaconda3\\lib\\site-packages (from ipykernel->jupyter-dash) (6.1)\n",
      "Requirement already satisfied: traitlets<6.0,>=4.1.0 in c:\\users\\robson\\anaconda3\\lib\\site-packages (from ipykernel->jupyter-dash) (5.1.0)\n",
      "Requirement already satisfied: debugpy<2.0,>=1.0.0 in c:\\users\\robson\\anaconda3\\lib\\site-packages (from ipykernel->jupyter-dash) (1.4.1)\n",
      "Requirement already satisfied: jupyter-client<8.0 in c:\\users\\robson\\anaconda3\\lib\\site-packages (from ipykernel->jupyter-dash) (6.1.12)\n",
      "Requirement already satisfied: ipython-genutils in c:\\users\\robson\\anaconda3\\lib\\site-packages (from ipykernel->jupyter-dash) (0.2.0)\n",
      "Requirement already satisfied: decorator in c:\\users\\robson\\anaconda3\\lib\\site-packages (from ipython->jupyter-dash) (5.1.0)\n",
      "Requirement already satisfied: pygments in c:\\users\\robson\\anaconda3\\lib\\site-packages (from ipython->jupyter-dash) (2.10.0)\n",
      "Requirement already satisfied: prompt-toolkit!=3.0.0,!=3.0.1,<3.1.0,>=2.0.0 in c:\\users\\robson\\anaconda3\\lib\\site-packages (from ipython->jupyter-dash) (3.0.20)\n",
      "Requirement already satisfied: pickleshare in c:\\users\\robson\\anaconda3\\lib\\site-packages (from ipython->jupyter-dash) (0.7.5)\n",
      "Requirement already satisfied: backcall in c:\\users\\robson\\anaconda3\\lib\\site-packages (from ipython->jupyter-dash) (0.2.0)\n",
      "Requirement already satisfied: jedi>=0.16 in c:\\users\\robson\\anaconda3\\lib\\site-packages (from ipython->jupyter-dash) (0.18.0)\n",
      "Requirement already satisfied: setuptools>=18.5 in c:\\users\\robson\\anaconda3\\lib\\site-packages (from ipython->jupyter-dash) (58.0.4)\n",
      "Requirement already satisfied: parso<0.9.0,>=0.8.0 in c:\\users\\robson\\anaconda3\\lib\\site-packages (from jedi>=0.16->ipython->jupyter-dash) (0.8.2)\n",
      "Requirement already satisfied: jupyter-core>=4.6.0 in c:\\users\\robson\\anaconda3\\lib\\site-packages (from jupyter-client<8.0->ipykernel->jupyter-dash) (4.8.1)\n",
      "Requirement already satisfied: pyzmq>=13 in c:\\users\\robson\\anaconda3\\lib\\site-packages (from jupyter-client<8.0->ipykernel->jupyter-dash) (22.2.1)\n",
      "Requirement already satisfied: python-dateutil>=2.1 in c:\\users\\robson\\anaconda3\\lib\\site-packages (from jupyter-client<8.0->ipykernel->jupyter-dash) (2.8.2)\n",
      "Requirement already satisfied: pywin32>=1.0 in c:\\users\\robson\\anaconda3\\lib\\site-packages (from jupyter-core>=4.6.0->jupyter-client<8.0->ipykernel->jupyter-dash) (228)\n",
      "Requirement already satisfied: wcwidth in c:\\users\\robson\\anaconda3\\lib\\site-packages (from prompt-toolkit!=3.0.0,!=3.0.1,<3.1.0,>=2.0.0->ipython->jupyter-dash) (0.2.5)\n",
      "Requirement already satisfied: six>=1.5 in c:\\users\\robson\\anaconda3\\lib\\site-packages (from python-dateutil>=2.1->jupyter-client<8.0->ipykernel->jupyter-dash) (1.15.0)\n",
      "Requirement already satisfied: idna<4,>=2.5 in c:\\users\\robson\\anaconda3\\lib\\site-packages (from requests->jupyter-dash) (3.2)\n",
      "Requirement already satisfied: urllib3<1.27,>=1.21.1 in c:\\users\\robson\\anaconda3\\lib\\site-packages (from requests->jupyter-dash) (1.26.7)\n",
      "Requirement already satisfied: charset-normalizer~=2.0.0 in c:\\users\\robson\\anaconda3\\lib\\site-packages (from requests->jupyter-dash) (2.0.4)\n",
      "Requirement already satisfied: certifi>=2017.4.17 in c:\\users\\robson\\anaconda3\\lib\\site-packages (from requests->jupyter-dash) (2021.10.8)\n",
      "Building wheels for collected packages: retrying\n",
      "  Building wheel for retrying (setup.py): started\n",
      "  Building wheel for retrying (setup.py): finished with status 'done'\n",
      "  Created wheel for retrying: filename=retrying-1.3.3-py3-none-any.whl size=11448 sha256=ccb2da4c5df1a49361ab7c546f5514b3bb61e1f629db2c841bbd462f718e24c6\n",
      "  Stored in directory: c:\\users\\robson\\appdata\\local\\pip\\cache\\wheels\\ce\\18\\7f\\e9527e3e66db1456194ac7f61eb3211068c409edceecff2d31\n",
      "Successfully built retrying\n",
      "Installing collected packages: flask-compress, dash-table, dash-html-components, dash-core-components, retrying, dash, ansi2html, jupyter-dash\n",
      "Successfully installed ansi2html-1.7.0 dash-2.4.1 dash-core-components-2.0.0 dash-html-components-2.0.0 dash-table-5.0.0 flask-compress-1.12 jupyter-dash-0.4.2 retrying-1.3.3\n",
      "Note: you may need to restart the kernel to use updated packages.\n"
     ]
    }
   ],
   "source": [
    "pip install jupyter-dash"
   ]
  },
  {
   "cell_type": "code",
   "execution_count": 2,
   "id": "82a78d1a",
   "metadata": {},
   "outputs": [
    {
     "name": "stdout",
     "output_type": "stream",
     "text": [
      "Requirement already satisfied: pandas in c:\\users\\robson\\anaconda3\\lib\\site-packages (1.3.4)\n",
      "Requirement already satisfied: numpy>=1.17.3 in c:\\users\\robson\\anaconda3\\lib\\site-packages (from pandas) (1.19.5)\n",
      "Requirement already satisfied: pytz>=2017.3 in c:\\users\\robson\\anaconda3\\lib\\site-packages (from pandas) (2021.3)\n",
      "Requirement already satisfied: python-dateutil>=2.7.3 in c:\\users\\robson\\anaconda3\\lib\\site-packages (from pandas) (2.8.2)\n",
      "Requirement already satisfied: six>=1.5 in c:\\users\\robson\\anaconda3\\lib\\site-packages (from python-dateutil>=2.7.3->pandas) (1.15.0)\n",
      "Note: you may need to restart the kernel to use updated packages.\n"
     ]
    }
   ],
   "source": [
    "pip install pandas"
   ]
  },
  {
   "cell_type": "code",
   "execution_count": 3,
   "id": "1fea1c63",
   "metadata": {},
   "outputs": [
    {
     "name": "stderr",
     "output_type": "stream",
     "text": [
      "C:\\Users\\Robson\\AppData\\Local\\Temp/ipykernel_11596/1399112611.py:4: UserWarning: \n",
      "The dash_html_components package is deprecated. Please replace\n",
      "`import dash_html_components as html` with `from dash import html`\n",
      "  import dash_html_components as html\n",
      "C:\\Users\\Robson\\AppData\\Local\\Temp/ipykernel_11596/1399112611.py:5: UserWarning: \n",
      "The dash_core_components package is deprecated. Please replace\n",
      "`import dash_core_components as dcc` with `from dash import dcc`\n",
      "  import dash_core_components as dcc\n"
     ]
    }
   ],
   "source": [
    "# Import required libraries\n",
    "import pandas as pd\n",
    "import dash\n",
    "import dash_html_components as html\n",
    "import dash_core_components as dcc\n",
    "from dash.dependencies import Input, Output\n",
    "import plotly.express as px"
   ]
  },
  {
   "cell_type": "code",
   "execution_count": 7,
   "id": "45cfc968",
   "metadata": {},
   "outputs": [],
   "source": [
    "# Read the airline data into pandas dataframe\n",
    "spacex_df = pd.read_csv(\"https://cf-courses-data.s3.us.cloud-object-storage.appdomain.cloud/IBM-DS0321EN-SkillsNetwork/datasets/spacex_launch_dash.csv\")\n",
    "max_payload = spacex_df['Payload Mass (kg)'].max()\n",
    "min_payload = spacex_df['Payload Mass (kg)'].min()"
   ]
  },
  {
   "cell_type": "code",
   "execution_count": 8,
   "id": "b85a40d3",
   "metadata": {},
   "outputs": [],
   "source": [
    "# Create a dash application\n",
    "app = dash.Dash(__name__)"
   ]
  },
  {
   "cell_type": "code",
   "execution_count": null,
   "id": "90c9304a",
   "metadata": {},
   "outputs": [],
   "source": []
  }
 ],
 "metadata": {
  "kernelspec": {
   "display_name": "Python 3 (ipykernel)",
   "language": "python",
   "name": "python3"
  },
  "language_info": {
   "codemirror_mode": {
    "name": "ipython",
    "version": 3
   },
   "file_extension": ".py",
   "mimetype": "text/x-python",
   "name": "python",
   "nbconvert_exporter": "python",
   "pygments_lexer": "ipython3",
   "version": "3.9.7"
  }
 },
 "nbformat": 4,
 "nbformat_minor": 5
}
